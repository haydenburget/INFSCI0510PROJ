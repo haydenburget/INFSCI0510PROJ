{
 "cells": [
  {
   "cell_type": "code",
   "execution_count": 151,
   "id": "b718ebde",
   "metadata": {},
   "outputs": [],
   "source": [
    "# Inititalization\n",
    "\n",
    "import pandas as pd\n",
    "import numpy as np\n",
    "import matplotlib.pyplot as plt\n",
    "\n",
    "df = pd.read_csv(\"housing.csv\")"
   ]
  },
  {
   "cell_type": "markdown",
   "id": "913e5be0",
   "metadata": {},
   "source": [
    "# Simplification of data: \n",
    "\n",
    "    - selecting only houses\n",
    "    - mapping states into set of 4 regions"
   ]
  },
  {
   "cell_type": "code",
   "execution_count": 152,
   "id": "f9b05d09",
   "metadata": {
    "scrolled": true
   },
   "outputs": [],
   "source": [
    "value = ['house']\n",
    "df = df[df.type.isin(value)]\n",
    "\n",
    "# Mapping states into regions:\n",
    "\n",
    "df['region'] = df.state.map({\n",
    "'ca' : 'west',\n",
    "'fl' : 'south',\n",
    "'tx' : 'south',\n",
    "'nc' : 'south',\n",
    "'mi' : 'midwest',\n",
    "'ga' : 'south',\n",
    "'oh' : 'midwest',\n",
    "'tn' : 'south',\n",
    "'co' : 'west',\n",
    "'va' : 'south',\n",
    "'ny' : 'northeast',\n",
    "'sc' : 'south',\n",
    "'pa' : 'northeast',\n",
    "'il' : 'midwest',\n",
    "'al' : 'south',\n",
    "'or' : 'west',\n",
    "'ks' : 'midwest',\n",
    "'ia' : 'midwest',\n",
    "'mn' : 'midwest',\n",
    "'md' : 'south',\n",
    "'la' : 'south',\n",
    "'wa' : 'west',\n",
    "'az' : 'west',\n",
    "'wi' : 'midwest',\n",
    "'in' : 'midwest',\n",
    "'ok' : 'south',\n",
    "'nj' : 'northeast',\n",
    "'ky' : 'south',\n",
    "'ut' : 'west',\n",
    "'ms' : 'south',\n",
    "'ma' : 'northeast',\n",
    "'id' : 'west',\n",
    "'ct' : 'northeast',\n",
    "'nd' : 'midwest',\n",
    "'ar' : 'west',\n",
    "'nm' : 'west',\n",
    "'nv' : 'west',\n",
    "'ne' : 'west',\n",
    "'dc' : 'south',\n",
    "'ak' : 'west',\n",
    "'mo' : 'midwest',\n",
    "'de' : 'south',\n",
    "'ri' : 'northeast',\n",
    "'hi' : 'west',\n",
    "'sd' : 'midwest',\n",
    "'nh' : 'northeast',\n",
    "'mt' : 'west',\n",
    "'wv' : 'south',\n",
    "'vt' : 'northeast',\n",
    "'me' : 'northeast',\n",
    "'wy' : 'west'\n",
    " })\n",
    "\n",
    "\n",
    "df['parking_attached'] = df.parking_options.map({\n",
    "    'attached garage' : '1',\n",
    "    'off-street parking' : '0',\n",
    "    'detached garage' : '0',\n",
    "    'carport': '0',\n",
    "    'street parking': '0',\n",
    "    'no parking': '0',\n",
    "    'valet parking': '0'\n",
    "})\n",
    "    \n",
    "    \n",
    "columns_selected = [\"type\", \"sqfeet\", \"beds\", \"baths\", \"comes_furnished\", \"parking_attached\", \"region\", \"price\"]\n",
    "df = df[columns_selected]"
   ]
  },
  {
   "cell_type": "code",
   "execution_count": 153,
   "id": "857bbf95",
   "metadata": {},
   "outputs": [
    {
     "data": {
      "text/html": [
       "<div>\n",
       "<style scoped>\n",
       "    .dataframe tbody tr th:only-of-type {\n",
       "        vertical-align: middle;\n",
       "    }\n",
       "\n",
       "    .dataframe tbody tr th {\n",
       "        vertical-align: top;\n",
       "    }\n",
       "\n",
       "    .dataframe thead th {\n",
       "        text-align: right;\n",
       "    }\n",
       "</style>\n",
       "<table border=\"1\" class=\"dataframe\">\n",
       "  <thead>\n",
       "    <tr style=\"text-align: right;\">\n",
       "      <th></th>\n",
       "      <th>type</th>\n",
       "      <th>sqfeet</th>\n",
       "      <th>beds</th>\n",
       "      <th>baths</th>\n",
       "      <th>comes_furnished</th>\n",
       "      <th>parking_attached</th>\n",
       "      <th>region</th>\n",
       "      <th>price</th>\n",
       "    </tr>\n",
       "  </thead>\n",
       "  <tbody>\n",
       "    <tr>\n",
       "      <th>11</th>\n",
       "      <td>house</td>\n",
       "      <td>3115</td>\n",
       "      <td>4</td>\n",
       "      <td>3.0</td>\n",
       "      <td>0</td>\n",
       "      <td>1</td>\n",
       "      <td>west</td>\n",
       "      <td>2195</td>\n",
       "    </tr>\n",
       "    <tr>\n",
       "      <th>19</th>\n",
       "      <td>house</td>\n",
       "      <td>1600</td>\n",
       "      <td>3</td>\n",
       "      <td>2.0</td>\n",
       "      <td>0</td>\n",
       "      <td>1</td>\n",
       "      <td>west</td>\n",
       "      <td>1899</td>\n",
       "    </tr>\n",
       "    <tr>\n",
       "      <th>27</th>\n",
       "      <td>house</td>\n",
       "      <td>582</td>\n",
       "      <td>1</td>\n",
       "      <td>1.0</td>\n",
       "      <td>0</td>\n",
       "      <td>0</td>\n",
       "      <td>west</td>\n",
       "      <td>895</td>\n",
       "    </tr>\n",
       "    <tr>\n",
       "      <th>30</th>\n",
       "      <td>house</td>\n",
       "      <td>1440</td>\n",
       "      <td>2</td>\n",
       "      <td>2.0</td>\n",
       "      <td>0</td>\n",
       "      <td>1</td>\n",
       "      <td>west</td>\n",
       "      <td>1595</td>\n",
       "    </tr>\n",
       "    <tr>\n",
       "      <th>34</th>\n",
       "      <td>house</td>\n",
       "      <td>844</td>\n",
       "      <td>2</td>\n",
       "      <td>1.0</td>\n",
       "      <td>0</td>\n",
       "      <td>0</td>\n",
       "      <td>west</td>\n",
       "      <td>1195</td>\n",
       "    </tr>\n",
       "    <tr>\n",
       "      <th>...</th>\n",
       "      <td>...</td>\n",
       "      <td>...</td>\n",
       "      <td>...</td>\n",
       "      <td>...</td>\n",
       "      <td>...</td>\n",
       "      <td>...</td>\n",
       "      <td>...</td>\n",
       "      <td>...</td>\n",
       "    </tr>\n",
       "    <tr>\n",
       "      <th>384913</th>\n",
       "      <td>house</td>\n",
       "      <td>2516</td>\n",
       "      <td>3</td>\n",
       "      <td>2.5</td>\n",
       "      <td>0</td>\n",
       "      <td>1</td>\n",
       "      <td>west</td>\n",
       "      <td>2295</td>\n",
       "    </tr>\n",
       "    <tr>\n",
       "      <th>384949</th>\n",
       "      <td>house</td>\n",
       "      <td>729</td>\n",
       "      <td>2</td>\n",
       "      <td>1.0</td>\n",
       "      <td>0</td>\n",
       "      <td>0</td>\n",
       "      <td>west</td>\n",
       "      <td>1595</td>\n",
       "    </tr>\n",
       "    <tr>\n",
       "      <th>384951</th>\n",
       "      <td>house</td>\n",
       "      <td>622</td>\n",
       "      <td>1</td>\n",
       "      <td>1.0</td>\n",
       "      <td>0</td>\n",
       "      <td>0</td>\n",
       "      <td>west</td>\n",
       "      <td>895</td>\n",
       "    </tr>\n",
       "    <tr>\n",
       "      <th>384961</th>\n",
       "      <td>house</td>\n",
       "      <td>1092</td>\n",
       "      <td>3</td>\n",
       "      <td>2.0</td>\n",
       "      <td>0</td>\n",
       "      <td>0</td>\n",
       "      <td>west</td>\n",
       "      <td>1695</td>\n",
       "    </tr>\n",
       "    <tr>\n",
       "      <th>384963</th>\n",
       "      <td>house</td>\n",
       "      <td>1447</td>\n",
       "      <td>3</td>\n",
       "      <td>2.0</td>\n",
       "      <td>0</td>\n",
       "      <td>1</td>\n",
       "      <td>west</td>\n",
       "      <td>1695</td>\n",
       "    </tr>\n",
       "  </tbody>\n",
       "</table>\n",
       "<p>33266 rows × 8 columns</p>\n",
       "</div>"
      ],
      "text/plain": [
       "         type  sqfeet  beds  baths  comes_furnished parking_attached region  \\\n",
       "11      house    3115     4    3.0                0                1   west   \n",
       "19      house    1600     3    2.0                0                1   west   \n",
       "27      house     582     1    1.0                0                0   west   \n",
       "30      house    1440     2    2.0                0                1   west   \n",
       "34      house     844     2    1.0                0                0   west   \n",
       "...       ...     ...   ...    ...              ...              ...    ...   \n",
       "384913  house    2516     3    2.5                0                1   west   \n",
       "384949  house     729     2    1.0                0                0   west   \n",
       "384951  house     622     1    1.0                0                0   west   \n",
       "384961  house    1092     3    2.0                0                0   west   \n",
       "384963  house    1447     3    2.0                0                1   west   \n",
       "\n",
       "        price  \n",
       "11       2195  \n",
       "19       1899  \n",
       "27        895  \n",
       "30       1595  \n",
       "34       1195  \n",
       "...       ...  \n",
       "384913   2295  \n",
       "384949   1595  \n",
       "384951    895  \n",
       "384961   1695  \n",
       "384963   1695  \n",
       "\n",
       "[33266 rows x 8 columns]"
      ]
     },
     "metadata": {},
     "output_type": "display_data"
    }
   ],
   "source": [
    "display(df)"
   ]
  },
  {
   "cell_type": "markdown",
   "id": "cde0c6fc",
   "metadata": {},
   "source": [
    "# Checking for missing values"
   ]
  },
  {
   "cell_type": "code",
   "execution_count": 154,
   "id": "55a5c2be",
   "metadata": {},
   "outputs": [
    {
     "data": {
      "text/plain": [
       "type                False\n",
       "sqfeet              False\n",
       "beds                False\n",
       "baths               False\n",
       "comes_furnished     False\n",
       "parking_attached     True\n",
       "region              False\n",
       "price               False\n",
       "dtype: bool"
      ]
     },
     "execution_count": 154,
     "metadata": {},
     "output_type": "execute_result"
    }
   ],
   "source": [
    "df.isna().any()"
   ]
  },
  {
   "cell_type": "code",
   "execution_count": 155,
   "id": "9f6d2a27",
   "metadata": {},
   "outputs": [
    {
     "data": {
      "text/plain": [
       "9368"
      ]
     },
     "metadata": {},
     "output_type": "display_data"
    }
   ],
   "source": [
    "# Checking number of null in each column with nulls\n",
    "display(df['parking_attached'].isna().sum())"
   ]
  },
  {
   "cell_type": "markdown",
   "id": "6ab460de",
   "metadata": {},
   "source": [
    "# Checking for outliers"
   ]
  },
  {
   "cell_type": "code",
   "execution_count": 156,
   "id": "42466185",
   "metadata": {},
   "outputs": [
    {
     "data": {
      "text/plain": [
       "<AxesSubplot:>"
      ]
     },
     "execution_count": 156,
     "metadata": {},
     "output_type": "execute_result"
    },
    {
     "data": {
      "image/png": "[encoded data removed]",
      "text/plain": [
       "<Figure size 432x288 with 1 Axes>"
      ]
     },
     "metadata": {
      "needs_background": "light"
     },
     "output_type": "display_data"
    }
   ],
   "source": [
    "df.boxplot(column=['price'], vert=False)"
   ]
  },
  {
   "cell_type": "code",
   "execution_count": 157,
   "id": "f098480e",
   "metadata": {},
   "outputs": [
    {
     "data": {
      "text/plain": [
       "<AxesSubplot:>"
      ]
     },
     "execution_count": 157,
     "metadata": {},
     "output_type": "execute_result"
    },
    {
     "data": {
      "image/png": "[encoded data removed]",
      "text/plain": [
       "<Figure size 432x288 with 1 Axes>"
      ]
     },
     "metadata": {
      "needs_background": "light"
     },
     "output_type": "display_data"
    }
   ],
   "source": [
    "df.boxplot(column=['sqfeet'], vert=False)"
   ]
  },
  {
   "cell_type": "code",
   "execution_count": 158,
   "id": "f45fa3df",
   "metadata": {},
   "outputs": [
    {
     "data": {
      "text/plain": [
       "<AxesSubplot:>"
      ]
     },
     "execution_count": 158,
     "metadata": {},
     "output_type": "execute_result"
    },
    {
     "data": {
      "image/png": "[encoded data removed]",
      "text/plain": [
       "<Figure size 432x288 with 1 Axes>"
      ]
     },
     "metadata": {
      "needs_background": "light"
     },
     "output_type": "display_data"
    }
   ],
   "source": [
    "df.boxplot(column=['beds'], vert=False)"
   ]
  },
  {
   "cell_type": "code",
   "execution_count": 159,
   "id": "d73d895b",
   "metadata": {},
   "outputs": [
    {
     "data": {
      "text/plain": [
       "<AxesSubplot:>"
      ]
     },
     "execution_count": 159,
     "metadata": {},
     "output_type": "execute_result"
    },
    {
     "data": {
      "image/png": "[encoded data removed]",
      "text/plain": [
       "<Figure size 432x288 with 1 Axes>"
      ]
     },
     "metadata": {
      "needs_background": "light"
     },
     "output_type": "display_data"
    }
   ],
   "source": [
    "df.boxplot(column=['baths'], vert=False)"
   ]
  },
  {
   "cell_type": "code",
   "execution_count": 160,
   "id": "c5301c0b",
   "metadata": {},
   "outputs": [],
   "source": [
    "# Removing outliers\n",
    "\n",
    "df = df[df.price < 20000]\n",
    "df = df[df.sqfeet < 10000]"
   ]
  },
  {
   "cell_type": "markdown",
   "id": "3a6ddfad",
   "metadata": {},
   "source": [
    "## Graphs after outlier removal applied"
   ]
  },
  {
   "cell_type": "code",
   "execution_count": 161,
   "id": "0d6c4407",
   "metadata": {},
   "outputs": [
    {
     "data": {
      "text/plain": [
       "<AxesSubplot:>"
      ]
     },
     "execution_count": 161,
     "metadata": {},
     "output_type": "execute_result"
    },
    {
     "data": {
      "image/png": "[encoded data removed]",
      "text/plain": [
       "<Figure size 432x288 with 1 Axes>"
      ]
     },
     "metadata": {
      "needs_background": "light"
     },
     "output_type": "display_data"
    }
   ],
   "source": [
    "df.boxplot(column=['price'], vert=False)"
   ]
  },
  {
   "cell_type": "code",
   "execution_count": 162,
   "id": "c24d0547",
   "metadata": {},
   "outputs": [
    {
     "data": {
      "text/plain": [
       "<AxesSubplot:>"
      ]
     },
     "execution_count": 162,
     "metadata": {},
     "output_type": "execute_result"
    },
    {
     "data": {
      "image/png": "[encoded data removed]",
      "text/plain": [
       "<Figure size 432x288 with 1 Axes>"
      ]
     },
     "metadata": {
      "needs_background": "light"
     },
     "output_type": "display_data"
    }
   ],
   "source": [
    "df.boxplot(column=['sqfeet'], vert=False)"
   ]
  },
  {
   "cell_type": "code",
   "execution_count": null,
   "id": "e1bd1487",
   "metadata": {},
   "outputs": [],
   "source": []
  }
 ],
 "metadata": {
  "kernelspec": {
   "display_name": "Python 3 (ipykernel)",
   "language": "python",
   "name": "python3"
  },
  "language_info": {
   "codemirror_mode": {
    "name": "ipython",
    "version": 3
   },
   "file_extension": ".py",
   "mimetype": "text/x-python",
   "name": "python",
   "nbconvert_exporter": "python",
   "pygments_lexer": "ipython3",
   "version": "3.9.7"
  }
 },
 "nbformat": 4,
 "nbformat_minor": 5
}
